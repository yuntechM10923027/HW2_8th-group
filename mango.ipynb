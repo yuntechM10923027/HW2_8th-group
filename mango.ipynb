{
 "cells": [
  {
   "cell_type": "code",
   "execution_count": 1,
   "id": "3d10704f",
   "metadata": {},
   "outputs": [
    {
     "name": "stderr",
     "output_type": "stream",
     "text": [
      "C:\\ProgramData\\Anaconda3\\envs\\tf14\\lib\\site-packages\\tensorflow\\python\\framework\\dtypes.py:516: FutureWarning: Passing (type, 1) or '1type' as a synonym of type is deprecated; in a future version of numpy, it will be understood as (type, (1,)) / '(1,)type'.\n",
      "  _np_qint8 = np.dtype([(\"qint8\", np.int8, 1)])\n",
      "C:\\ProgramData\\Anaconda3\\envs\\tf14\\lib\\site-packages\\tensorflow\\python\\framework\\dtypes.py:517: FutureWarning: Passing (type, 1) or '1type' as a synonym of type is deprecated; in a future version of numpy, it will be understood as (type, (1,)) / '(1,)type'.\n",
      "  _np_quint8 = np.dtype([(\"quint8\", np.uint8, 1)])\n",
      "C:\\ProgramData\\Anaconda3\\envs\\tf14\\lib\\site-packages\\tensorflow\\python\\framework\\dtypes.py:518: FutureWarning: Passing (type, 1) or '1type' as a synonym of type is deprecated; in a future version of numpy, it will be understood as (type, (1,)) / '(1,)type'.\n",
      "  _np_qint16 = np.dtype([(\"qint16\", np.int16, 1)])\n",
      "C:\\ProgramData\\Anaconda3\\envs\\tf14\\lib\\site-packages\\tensorflow\\python\\framework\\dtypes.py:519: FutureWarning: Passing (type, 1) or '1type' as a synonym of type is deprecated; in a future version of numpy, it will be understood as (type, (1,)) / '(1,)type'.\n",
      "  _np_quint16 = np.dtype([(\"quint16\", np.uint16, 1)])\n",
      "C:\\ProgramData\\Anaconda3\\envs\\tf14\\lib\\site-packages\\tensorflow\\python\\framework\\dtypes.py:520: FutureWarning: Passing (type, 1) or '1type' as a synonym of type is deprecated; in a future version of numpy, it will be understood as (type, (1,)) / '(1,)type'.\n",
      "  _np_qint32 = np.dtype([(\"qint32\", np.int32, 1)])\n",
      "C:\\ProgramData\\Anaconda3\\envs\\tf14\\lib\\site-packages\\tensorflow\\python\\framework\\dtypes.py:525: FutureWarning: Passing (type, 1) or '1type' as a synonym of type is deprecated; in a future version of numpy, it will be understood as (type, (1,)) / '(1,)type'.\n",
      "  np_resource = np.dtype([(\"resource\", np.ubyte, 1)])\n",
      "C:\\ProgramData\\Anaconda3\\envs\\tf14\\lib\\site-packages\\tensorboard\\compat\\tensorflow_stub\\dtypes.py:541: FutureWarning: Passing (type, 1) or '1type' as a synonym of type is deprecated; in a future version of numpy, it will be understood as (type, (1,)) / '(1,)type'.\n",
      "  _np_qint8 = np.dtype([(\"qint8\", np.int8, 1)])\n",
      "C:\\ProgramData\\Anaconda3\\envs\\tf14\\lib\\site-packages\\tensorboard\\compat\\tensorflow_stub\\dtypes.py:542: FutureWarning: Passing (type, 1) or '1type' as a synonym of type is deprecated; in a future version of numpy, it will be understood as (type, (1,)) / '(1,)type'.\n",
      "  _np_quint8 = np.dtype([(\"quint8\", np.uint8, 1)])\n",
      "C:\\ProgramData\\Anaconda3\\envs\\tf14\\lib\\site-packages\\tensorboard\\compat\\tensorflow_stub\\dtypes.py:543: FutureWarning: Passing (type, 1) or '1type' as a synonym of type is deprecated; in a future version of numpy, it will be understood as (type, (1,)) / '(1,)type'.\n",
      "  _np_qint16 = np.dtype([(\"qint16\", np.int16, 1)])\n",
      "C:\\ProgramData\\Anaconda3\\envs\\tf14\\lib\\site-packages\\tensorboard\\compat\\tensorflow_stub\\dtypes.py:544: FutureWarning: Passing (type, 1) or '1type' as a synonym of type is deprecated; in a future version of numpy, it will be understood as (type, (1,)) / '(1,)type'.\n",
      "  _np_quint16 = np.dtype([(\"quint16\", np.uint16, 1)])\n",
      "C:\\ProgramData\\Anaconda3\\envs\\tf14\\lib\\site-packages\\tensorboard\\compat\\tensorflow_stub\\dtypes.py:545: FutureWarning: Passing (type, 1) or '1type' as a synonym of type is deprecated; in a future version of numpy, it will be understood as (type, (1,)) / '(1,)type'.\n",
      "  _np_qint32 = np.dtype([(\"qint32\", np.int32, 1)])\n",
      "C:\\ProgramData\\Anaconda3\\envs\\tf14\\lib\\site-packages\\tensorboard\\compat\\tensorflow_stub\\dtypes.py:550: FutureWarning: Passing (type, 1) or '1type' as a synonym of type is deprecated; in a future version of numpy, it will be understood as (type, (1,)) / '(1,)type'.\n",
      "  np_resource = np.dtype([(\"resource\", np.ubyte, 1)])\n",
      "Using TensorFlow backend.\n"
     ]
    }
   ],
   "source": [
    "import os\n",
    "import cv2\n",
    "import numpy as np\n",
    "import matplotlib.pyplot as plt\n",
    "import pandas as pd\n",
    "import gc\n",
    "\n",
    "import tensorflow as tf\n",
    "from tensorflow.keras import layers\n",
    "from tensorflow.keras.models import Model,Sequential\n",
    "from tensorflow.keras.layers import Dense, Activation,Dropout,Conv2D,MaxPooling2D,LSTM,BatchNormalization,Flatten\n",
    "\n",
    "from keras.preprocessing.image import img_to_array\n",
    "from keras.datasets import cifar10\n",
    "from keras.utils import np_utils,plot_model\n",
    "from sklearn.model_selection import train_test_split"
   ]
  },
  {
   "cell_type": "code",
   "execution_count": 2,
   "id": "8d1a00a9",
   "metadata": {},
   "outputs": [],
   "source": [
    "df_train=pd.read_csv(\"./DATA/train.csv\",encoding=\"utf8\")\n",
    "df_test=pd.read_csv(\"./DATA/test.csv\",encoding=\"utf8\")"
   ]
  },
  {
   "cell_type": "code",
   "execution_count": 3,
   "id": "2bee3d0f",
   "metadata": {
    "scrolled": true
   },
   "outputs": [
    {
     "data": {
      "text/html": [
       "<div>\n",
       "<style scoped>\n",
       "    .dataframe tbody tr th:only-of-type {\n",
       "        vertical-align: middle;\n",
       "    }\n",
       "\n",
       "    .dataframe tbody tr th {\n",
       "        vertical-align: top;\n",
       "    }\n",
       "\n",
       "    .dataframe thead th {\n",
       "        text-align: right;\n",
       "    }\n",
       "</style>\n",
       "<table border=\"1\" class=\"dataframe\">\n",
       "  <thead>\n",
       "    <tr style=\"text-align: right;\">\n",
       "      <th></th>\n",
       "      <th>image_id</th>\n",
       "      <th>label</th>\n",
       "    </tr>\n",
       "  </thead>\n",
       "  <tbody>\n",
       "    <tr>\n",
       "      <th>0</th>\n",
       "      <td>00002.jpg</td>\n",
       "      <td>C</td>\n",
       "    </tr>\n",
       "    <tr>\n",
       "      <th>1</th>\n",
       "      <td>00003.jpg</td>\n",
       "      <td>C</td>\n",
       "    </tr>\n",
       "    <tr>\n",
       "      <th>2</th>\n",
       "      <td>00004.jpg</td>\n",
       "      <td>B</td>\n",
       "    </tr>\n",
       "    <tr>\n",
       "      <th>3</th>\n",
       "      <td>00005.jpg</td>\n",
       "      <td>A</td>\n",
       "    </tr>\n",
       "    <tr>\n",
       "      <th>4</th>\n",
       "      <td>00007.jpg</td>\n",
       "      <td>A</td>\n",
       "    </tr>\n",
       "    <tr>\n",
       "      <th>...</th>\n",
       "      <td>...</td>\n",
       "      <td>...</td>\n",
       "    </tr>\n",
       "    <tr>\n",
       "      <th>6125</th>\n",
       "      <td>07681.jpg</td>\n",
       "      <td>B</td>\n",
       "    </tr>\n",
       "    <tr>\n",
       "      <th>6126</th>\n",
       "      <td>07682.jpg</td>\n",
       "      <td>C</td>\n",
       "    </tr>\n",
       "    <tr>\n",
       "      <th>6127</th>\n",
       "      <td>07683.jpg</td>\n",
       "      <td>A</td>\n",
       "    </tr>\n",
       "    <tr>\n",
       "      <th>6128</th>\n",
       "      <td>07684.jpg</td>\n",
       "      <td>C</td>\n",
       "    </tr>\n",
       "    <tr>\n",
       "      <th>6129</th>\n",
       "      <td>07685.jpg</td>\n",
       "      <td>A</td>\n",
       "    </tr>\n",
       "  </tbody>\n",
       "</table>\n",
       "<p>6130 rows × 2 columns</p>\n",
       "</div>"
      ],
      "text/plain": [
       "       image_id label\n",
       "0     00002.jpg     C\n",
       "1     00003.jpg     C\n",
       "2     00004.jpg     B\n",
       "3     00005.jpg     A\n",
       "4     00007.jpg     A\n",
       "...         ...   ...\n",
       "6125  07681.jpg     B\n",
       "6126  07682.jpg     C\n",
       "6127  07683.jpg     A\n",
       "6128  07684.jpg     C\n",
       "6129  07685.jpg     A\n",
       "\n",
       "[6130 rows x 2 columns]"
      ]
     },
     "execution_count": 3,
     "metadata": {},
     "output_type": "execute_result"
    }
   ],
   "source": [
    "df_train"
   ]
  },
  {
   "cell_type": "markdown",
   "id": "da1e3506",
   "metadata": {},
   "source": [
    "test=df_train[df_train['image_id']=='00002.jpg']['label'].values\n",
    "train_Y.append(test)"
   ]
  },
  {
   "cell_type": "markdown",
   "id": "49f277b3",
   "metadata": {},
   "source": [
    "train_Y[0]"
   ]
  },
  {
   "cell_type": "markdown",
   "id": "8d8ac415",
   "metadata": {},
   "source": [
    "test[0]"
   ]
  },
  {
   "cell_type": "markdown",
   "id": "4bfe155b",
   "metadata": {},
   "source": [
    "print(train_Y)"
   ]
  },
  {
   "cell_type": "markdown",
   "id": "796e875e",
   "metadata": {},
   "source": [
    "test.reset_index(drop=True, inplace=True)"
   ]
  },
  {
   "cell_type": "markdown",
   "id": "ced100e0",
   "metadata": {},
   "source": [
    "test = pd.get_dummies(test)"
   ]
  },
  {
   "cell_type": "markdown",
   "id": "f95a1eec",
   "metadata": {},
   "source": [
    "test"
   ]
  },
  {
   "cell_type": "markdown",
   "id": "0a4e9e68",
   "metadata": {},
   "source": [
    "train_path='./DATA/Train_Image'\n",
    "test_path='./DATA/Test_Image'"
   ]
  },
  {
   "cell_type": "markdown",
   "id": "74619008",
   "metadata": {},
   "source": [
    "AllPath=os.listdir(train_path)"
   ]
  },
  {
   "cell_type": "code",
   "execution_count": 4,
   "id": "754ad455",
   "metadata": {},
   "outputs": [],
   "source": [
    "train_X=[]\n",
    "train_Y=[]"
   ]
  },
  {
   "cell_type": "code",
   "execution_count": 5,
   "id": "ba21a6ee",
   "metadata": {},
   "outputs": [],
   "source": [
    "for root,dirs,files in os.walk('./DATA/Train_Image/'):\n",
    "    for name in files:\n",
    "        img=cv2.imread(os.path.join(root,name))\n",
    "        res = cv2.resize(img,(240,240),interpolation=cv2.INTER_LINEAR)\n",
    "        res = cv2.cvtColor(res,cv2.COLOR_BGR2RGB)\n",
    "        res=img_to_array(res)\n",
    "        del img\n",
    "        \n",
    "        train_X.append(res)\n",
    "        temp=df_train[df_train['image_id']==name]['label'].values\n",
    "        train_Y.append(temp[0])\n",
    "        del res\n",
    "        gc.collect()\n",
    "#         img=cv2.imread(os.path.join(root,name))\n",
    "        "
   ]
  },
  {
   "cell_type": "markdown",
   "id": "9996aca0",
   "metadata": {},
   "source": [
    "x_train=train_X\n",
    "y_train=train_Y"
   ]
  },
  {
   "cell_type": "code",
   "execution_count": 6,
   "id": "6bdcd998",
   "metadata": {
    "scrolled": true
   },
   "outputs": [],
   "source": [
    "train_Y=pd.get_dummies(train_Y)"
   ]
  },
  {
   "cell_type": "code",
   "execution_count": 7,
   "id": "6233809f",
   "metadata": {},
   "outputs": [],
   "source": [
    "# for i in range(0,len(x_train)):\n",
    "#     x_train[i]=(x_train[i]/255)\n",
    "    \n",
    "train_Y = np.array(train_Y)"
   ]
  },
  {
   "cell_type": "code",
   "execution_count": 8,
   "id": "7ad45b40",
   "metadata": {},
   "outputs": [],
   "source": [
    "train_X=np.array(train_X)"
   ]
  },
  {
   "cell_type": "code",
   "execution_count": 9,
   "id": "e85a126e",
   "metadata": {},
   "outputs": [
    {
     "data": {
      "text/plain": [
       "array([[[[223., 196.,  43.],\n",
       "         [222., 196.,  37.],\n",
       "         [220., 195.,  32.],\n",
       "         ...,\n",
       "         [  1.,   1.,   0.],\n",
       "         [  3.,   3.,   1.],\n",
       "         [  2.,   2.,   0.]],\n",
       "\n",
       "        [[222., 196.,  39.],\n",
       "         [220., 194.,  37.],\n",
       "         [219., 193.,  33.],\n",
       "         ...,\n",
       "         [  4.,   4.,   2.],\n",
       "         [  3.,   3.,   1.],\n",
       "         [  1.,   1.,   0.]],\n",
       "\n",
       "        [[221., 196.,  34.],\n",
       "         [219., 193.,  36.],\n",
       "         [217., 191.,  36.],\n",
       "         ...,\n",
       "         [  4.,   4.,   2.],\n",
       "         [  4.,   4.,   2.],\n",
       "         [  2.,   2.,   0.]],\n",
       "\n",
       "        ...,\n",
       "\n",
       "        [[219., 180.,   0.],\n",
       "         [224., 186.,   1.],\n",
       "         [228., 190.,   3.],\n",
       "         ...,\n",
       "         [101.,  76.,  80.],\n",
       "         [103.,  78.,  82.],\n",
       "         [100.,  75.,  79.]],\n",
       "\n",
       "        [[220., 181.,   2.],\n",
       "         [221., 182.,   0.],\n",
       "         [224., 186.,   1.],\n",
       "         ...,\n",
       "         [ 99.,  74.,  78.],\n",
       "         [100.,  75.,  79.],\n",
       "         [104.,  79.,  83.]],\n",
       "\n",
       "        [[218., 178.,   2.],\n",
       "         [219., 180.,   0.],\n",
       "         [223., 184.,   1.],\n",
       "         ...,\n",
       "         [100.,  75.,  79.],\n",
       "         [ 98.,  73.,  77.],\n",
       "         [101.,  76.,  80.]]],\n",
       "\n",
       "\n",
       "       [[[110., 107., 100.],\n",
       "         [113., 110., 103.],\n",
       "         [116., 113., 106.],\n",
       "         ...,\n",
       "         [130., 126., 125.],\n",
       "         [123., 119., 118.],\n",
       "         [126., 122., 121.]],\n",
       "\n",
       "        [[108., 105.,  98.],\n",
       "         [107., 104.,  97.],\n",
       "         [110., 107., 100.],\n",
       "         ...,\n",
       "         [129., 125., 124.],\n",
       "         [127., 123., 122.],\n",
       "         [128., 124., 123.]],\n",
       "\n",
       "        [[109., 106.,  99.],\n",
       "         [104., 101.,  94.],\n",
       "         [101.,  98.,  91.],\n",
       "         ...,\n",
       "         [128., 124., 123.],\n",
       "         [131., 127., 126.],\n",
       "         [125., 121., 120.]],\n",
       "\n",
       "        ...,\n",
       "\n",
       "        [[ 84.,  84.,  72.],\n",
       "         [ 82.,  82.,  70.],\n",
       "         [ 82.,  82.,  70.],\n",
       "         ...,\n",
       "         [251., 205., 189.],\n",
       "         [252., 206., 190.],\n",
       "         [252., 206., 190.]],\n",
       "\n",
       "        [[ 85.,  85.,  73.],\n",
       "         [ 82.,  82.,  70.],\n",
       "         [ 84.,  84.,  72.],\n",
       "         ...,\n",
       "         [251., 205., 189.],\n",
       "         [251., 205., 189.],\n",
       "         [251., 205., 189.]],\n",
       "\n",
       "        [[ 86.,  86.,  74.],\n",
       "         [ 83.,  83.,  71.],\n",
       "         [ 84.,  84.,  72.],\n",
       "         ...,\n",
       "         [251., 205., 189.],\n",
       "         [251., 205., 189.],\n",
       "         [251., 205., 189.]]],\n",
       "\n",
       "\n",
       "       [[[175., 188., 181.],\n",
       "         [173., 186., 179.],\n",
       "         [173., 186., 179.],\n",
       "         ...,\n",
       "         [251., 226., 185.],\n",
       "         [253., 228., 187.],\n",
       "         [253., 228., 187.]],\n",
       "\n",
       "        [[172., 185., 178.],\n",
       "         [172., 185., 178.],\n",
       "         [172., 185., 178.],\n",
       "         ...,\n",
       "         [252., 227., 186.],\n",
       "         [252., 227., 186.],\n",
       "         [253., 228., 187.]],\n",
       "\n",
       "        [[166., 179., 172.],\n",
       "         [167., 180., 173.],\n",
       "         [167., 180., 173.],\n",
       "         ...,\n",
       "         [254., 229., 188.],\n",
       "         [253., 228., 187.],\n",
       "         [254., 229., 188.]],\n",
       "\n",
       "        ...,\n",
       "\n",
       "        [[ 66.,  63.,  56.],\n",
       "         [ 66.,  63.,  56.],\n",
       "         [ 67.,  64.,  57.],\n",
       "         ...,\n",
       "         [101.,  99.,  84.],\n",
       "         [103., 101.,  86.],\n",
       "         [103., 101.,  86.]],\n",
       "\n",
       "        [[ 64.,  61.,  54.],\n",
       "         [ 66.,  63.,  56.],\n",
       "         [ 65.,  62.,  55.],\n",
       "         ...,\n",
       "         [101.,  99.,  84.],\n",
       "         [101.,  99.,  84.],\n",
       "         [100.,  99.,  84.]],\n",
       "\n",
       "        [[ 63.,  60.,  53.],\n",
       "         [ 65.,  62.,  55.],\n",
       "         [ 64.,  61.,  54.],\n",
       "         ...,\n",
       "         [ 99.,  97.,  82.],\n",
       "         [ 99.,  97.,  82.],\n",
       "         [105., 103.,  88.]]],\n",
       "\n",
       "\n",
       "       ...,\n",
       "\n",
       "\n",
       "       [[[ 51.,  57.,  55.],\n",
       "         [ 53.,  59.,  57.],\n",
       "         [ 50.,  56.,  54.],\n",
       "         ...,\n",
       "         [172., 189., 183.],\n",
       "         [170., 188., 182.],\n",
       "         [169., 187., 180.]],\n",
       "\n",
       "        [[ 51.,  57.,  55.],\n",
       "         [ 53.,  59.,  57.],\n",
       "         [ 53.,  60.,  57.],\n",
       "         ...,\n",
       "         [173., 190., 184.],\n",
       "         [177., 194., 188.],\n",
       "         [173., 190., 184.]],\n",
       "\n",
       "        [[ 54.,  61.,  60.],\n",
       "         [ 55.,  62.,  61.],\n",
       "         [ 55.,  62.,  61.],\n",
       "         ...,\n",
       "         [175., 191., 186.],\n",
       "         [179., 195., 190.],\n",
       "         [181., 197., 191.]],\n",
       "\n",
       "        ...,\n",
       "\n",
       "        [[164., 134., 129.],\n",
       "         [171., 139., 134.],\n",
       "         [176., 143., 137.],\n",
       "         ...,\n",
       "         [105., 124., 114.],\n",
       "         [103., 122., 112.],\n",
       "         [106., 124., 115.]],\n",
       "\n",
       "        [[168., 137., 132.],\n",
       "         [173., 142., 137.],\n",
       "         [177., 146., 141.],\n",
       "         ...,\n",
       "         [113., 133., 124.],\n",
       "         [108., 128., 119.],\n",
       "         [110., 130., 121.]],\n",
       "\n",
       "        [[170., 139., 134.],\n",
       "         [172., 141., 136.],\n",
       "         [175., 144., 139.],\n",
       "         ...,\n",
       "         [115., 135., 126.],\n",
       "         [111., 131., 122.],\n",
       "         [108., 128., 119.]]],\n",
       "\n",
       "\n",
       "       [[[234., 175., 102.],\n",
       "         [235., 173.,  98.],\n",
       "         [238., 175.,  98.],\n",
       "         ...,\n",
       "         [174., 191., 185.],\n",
       "         [174., 191., 185.],\n",
       "         [171., 188., 182.]],\n",
       "\n",
       "        [[242., 180., 109.],\n",
       "         [241., 177., 103.],\n",
       "         [244., 178., 103.],\n",
       "         ...,\n",
       "         [173., 190., 184.],\n",
       "         [169., 186., 180.],\n",
       "         [167., 184., 178.]],\n",
       "\n",
       "        [[245., 182., 102.],\n",
       "         [244., 179.,  97.],\n",
       "         [248., 181.,  97.],\n",
       "         ...,\n",
       "         [172., 189., 183.],\n",
       "         [168., 185., 179.],\n",
       "         [164., 181., 175.]],\n",
       "\n",
       "        ...,\n",
       "\n",
       "        [[ 94.,  19.,   0.],\n",
       "         [ 95.,  19.,   3.],\n",
       "         [ 80.,  17.,   0.],\n",
       "         ...,\n",
       "         [215., 215., 215.],\n",
       "         [211., 211., 211.],\n",
       "         [206., 206., 206.]],\n",
       "\n",
       "        [[ 96.,  21.,   1.],\n",
       "         [ 93.,  17.,   1.],\n",
       "         [ 77.,  14.,   0.],\n",
       "         ...,\n",
       "         [206., 206., 206.],\n",
       "         [213., 213., 213.],\n",
       "         [213., 213., 213.]],\n",
       "\n",
       "        [[ 96.,  21.,   1.],\n",
       "         [ 96.,  20.,   3.],\n",
       "         [ 78.,  15.,   0.],\n",
       "         ...,\n",
       "         [200., 200., 200.],\n",
       "         [197., 197., 197.],\n",
       "         [215., 215., 215.]]],\n",
       "\n",
       "\n",
       "       [[[ 38.,  53.,  40.],\n",
       "         [ 38.,  53.,  40.],\n",
       "         [ 42.,  56.,  43.],\n",
       "         ...,\n",
       "         [217., 126., 161.],\n",
       "         [231., 142., 179.],\n",
       "         [232., 144., 183.]],\n",
       "\n",
       "        [[ 38.,  53.,  39.],\n",
       "         [ 37.,  51.,  38.],\n",
       "         [ 38.,  52.,  39.],\n",
       "         ...,\n",
       "         [231., 124., 151.],\n",
       "         [231., 134., 167.],\n",
       "         [231., 143., 183.]],\n",
       "\n",
       "        [[ 39.,  53.,  40.],\n",
       "         [ 39.,  53.,  40.],\n",
       "         [ 38.,  52.,  39.],\n",
       "         ...,\n",
       "         [217., 119., 145.],\n",
       "         [212., 121., 154.],\n",
       "         [225., 142., 181.]],\n",
       "\n",
       "        ...,\n",
       "\n",
       "        [[ 56.,  94.,  81.],\n",
       "         [ 61.,  99.,  86.],\n",
       "         [ 65., 103.,  90.],\n",
       "         ...,\n",
       "         [180., 149., 144.],\n",
       "         [179., 148., 143.],\n",
       "         [179., 148., 143.]],\n",
       "\n",
       "        [[ 59.,  97.,  82.],\n",
       "         [ 66., 104.,  89.],\n",
       "         [ 67., 105.,  90.],\n",
       "         ...,\n",
       "         [184., 153., 148.],\n",
       "         [185., 154., 149.],\n",
       "         [180., 149., 144.]],\n",
       "\n",
       "        [[ 66., 105.,  87.],\n",
       "         [ 68., 107.,  88.],\n",
       "         [ 63., 102.,  84.],\n",
       "         ...,\n",
       "         [193., 162., 157.],\n",
       "         [192., 161., 156.],\n",
       "         [187., 156., 151.]]]], dtype=float32)"
      ]
     },
     "execution_count": 9,
     "metadata": {},
     "output_type": "execute_result"
    }
   ],
   "source": [
    "train_X"
   ]
  },
  {
   "cell_type": "code",
   "execution_count": 10,
   "id": "e323a86c",
   "metadata": {},
   "outputs": [
    {
     "data": {
      "text/plain": [
       "array([[0, 0, 1],\n",
       "       [0, 0, 1],\n",
       "       [0, 1, 0],\n",
       "       ...,\n",
       "       [1, 0, 0],\n",
       "       [0, 0, 1],\n",
       "       [1, 0, 0]], dtype=uint8)"
      ]
     },
     "execution_count": 10,
     "metadata": {},
     "output_type": "execute_result"
    }
   ],
   "source": [
    "train_Y"
   ]
  },
  {
   "cell_type": "code",
   "execution_count": 11,
   "id": "ce54a592",
   "metadata": {},
   "outputs": [],
   "source": [
    "test_X=[]\n",
    "test_Y=[]"
   ]
  },
  {
   "cell_type": "code",
   "execution_count": 12,
   "id": "adc1804e",
   "metadata": {},
   "outputs": [],
   "source": [
    "for root,dirs,files in os.walk('./DATA/Test_Image/'):\n",
    "    for name in files:\n",
    "        img=cv2.imread(os.path.join(root,name))\n",
    "        res = cv2.resize(img,(240,240),interpolation=cv2.INTER_LINEAR)\n",
    "        res = cv2.cvtColor(res,cv2.COLOR_BGR2RGB)\n",
    "        res=img_to_array(res)\n",
    "        del img\n",
    "        \n",
    "        test_X.append(res)\n",
    "        temp=df_test[df_test['image_id']==name]['label'].values\n",
    "        test_Y.append(temp[0])\n",
    "        del res\n",
    "        gc.collect()\n",
    "#         img=cv2.imread(os.path.join(root,name))\n",
    "        "
   ]
  },
  {
   "cell_type": "code",
   "execution_count": 13,
   "id": "bf171437",
   "metadata": {},
   "outputs": [],
   "source": [
    "test_Y=pd.get_dummies(test_Y)"
   ]
  },
  {
   "cell_type": "code",
   "execution_count": 14,
   "id": "8f018e46",
   "metadata": {},
   "outputs": [],
   "source": [
    "test_X=np.array(test_X)"
   ]
  },
  {
   "cell_type": "markdown",
   "id": "b6a8e3ef",
   "metadata": {},
   "source": [
    "img=cv2.imread('./DATA/Train_Image/00292.jpg')"
   ]
  },
  {
   "cell_type": "markdown",
   "id": "a2b4a410",
   "metadata": {},
   "source": [
    "img=cv2.cvtColor(img,cv2.COLOR_BGR2RGB)"
   ]
  },
  {
   "cell_type": "markdown",
   "id": "08c7a69e",
   "metadata": {},
   "source": [
    "plt.imshow(img)\n",
    "plt.axis('off')\n",
    "plt.show()"
   ]
  },
  {
   "cell_type": "markdown",
   "id": "0ad9e657",
   "metadata": {},
   "source": [
    "for root,dirs,files in os.walk('./train/cat'):\n",
    "    for name in files:\n",
    "        img=cv2.imread(os.path.join(root,name))\n",
    "        #res=cv2.resize(img,(800,800),interpolation=cv2.INTER_LINEAR)\n",
    "        res=img_to_array(img)\n",
    "        del img\n",
    "        train_X.append(res)\n",
    "        train_Y.append('cat')\n",
    "        del res\n",
    "        gc.collect()"
   ]
  },
  {
   "cell_type": "markdown",
   "id": "16e570a5",
   "metadata": {},
   "source": [
    "train_Y"
   ]
  },
  {
   "cell_type": "markdown",
   "id": "8619c78f",
   "metadata": {},
   "source": [
    "x_train,x_test,y_train,y_test = train_test_split(train_X,train_Y,test_size=0.2)"
   ]
  },
  {
   "cell_type": "markdown",
   "id": "1c33f8c5",
   "metadata": {},
   "source": [
    "for i in range(0,len(x_train)):\n",
    "    x_train[i]=(x_train[i]/255)\n",
    "\n",
    "for i in range(0,len(x_test)):\n",
    "     x_test[i]=(x_test[i]/255)"
   ]
  },
  {
   "cell_type": "markdown",
   "id": "06aad1e4",
   "metadata": {},
   "source": [
    "y_train = pd.get_dummies(y_train)\n",
    "y_test = pd.get_dummies(y_test)"
   ]
  },
  {
   "cell_type": "markdown",
   "id": "76960b1b",
   "metadata": {},
   "source": [
    "#x_train.shape = np.array(list).shape\n",
    "#print(x_train.shape)\n",
    "(np.array(x_train)).shape"
   ]
  },
  {
   "cell_type": "markdown",
   "id": "c09e48a5",
   "metadata": {},
   "source": [
    "(X_train, Y_train), (X_test, Y_test) = cifar10.load_data()\n",
    "\n",
    "\n",
    "x_train = test\n",
    "x_test = x_test.astype('float32')/255\n",
    "y_train = np_utils.to_categorical(y_train)\n",
    "y_test = np_utils.to_categorical(y_test)"
   ]
  },
  {
   "cell_type": "markdown",
   "id": "c175b69d",
   "metadata": {},
   "source": [
    "cifar10.load_data()"
   ]
  },
  {
   "cell_type": "code",
   "execution_count": 51,
   "id": "5634ed7c",
   "metadata": {},
   "outputs": [
    {
     "name": "stdout",
     "output_type": "stream",
     "text": [
      "Model: \"sequential_8\"\n",
      "_________________________________________________________________\n",
      "Layer (type)                 Output Shape              Param #   \n",
      "=================================================================\n",
      "conv2d_60 (Conv2D)           (None, 240, 240, 32)      896       \n",
      "_________________________________________________________________\n",
      "conv2d_61 (Conv2D)           (None, 240, 240, 32)      9248      \n",
      "_________________________________________________________________\n",
      "batch_normalization_13 (Batc (None, 240, 240, 32)      128       \n",
      "_________________________________________________________________\n",
      "max_pooling2d_30 (MaxPooling (None, 120, 120, 32)      0         \n",
      "_________________________________________________________________\n",
      "conv2d_62 (Conv2D)           (None, 120, 120, 64)      18496     \n",
      "_________________________________________________________________\n",
      "conv2d_63 (Conv2D)           (None, 120, 120, 64)      36928     \n",
      "_________________________________________________________________\n",
      "max_pooling2d_31 (MaxPooling (None, 60, 60, 64)        0         \n",
      "_________________________________________________________________\n",
      "conv2d_64 (Conv2D)           (None, 60, 60, 128)       73856     \n",
      "_________________________________________________________________\n",
      "conv2d_65 (Conv2D)           (None, 60, 60, 128)       147584    \n",
      "_________________________________________________________________\n",
      "max_pooling2d_32 (MaxPooling (None, 30, 30, 128)       0         \n",
      "_________________________________________________________________\n",
      "conv2d_66 (Conv2D)           (None, 30, 30, 256)       295168    \n",
      "_________________________________________________________________\n",
      "conv2d_67 (Conv2D)           (None, 30, 30, 256)       590080    \n",
      "_________________________________________________________________\n",
      "batch_normalization_14 (Batc (None, 30, 30, 256)       1024      \n",
      "_________________________________________________________________\n",
      "max_pooling2d_33 (MaxPooling (None, 15, 15, 256)       0         \n",
      "_________________________________________________________________\n",
      "flatten_8 (Flatten)          (None, 57600)             0         \n",
      "_________________________________________________________________\n",
      "dense_32 (Dense)             (None, 64)                3686464   \n",
      "_________________________________________________________________\n",
      "dense_33 (Dense)             (None, 128)               8320      \n",
      "_________________________________________________________________\n",
      "dense_34 (Dense)             (None, 64)                8256      \n",
      "_________________________________________________________________\n",
      "dropout_8 (Dropout)          (None, 64)                0         \n",
      "_________________________________________________________________\n",
      "dense_35 (Dense)             (None, 3)                 195       \n",
      "=================================================================\n",
      "Total params: 4,876,643\n",
      "Trainable params: 4,876,067\n",
      "Non-trainable params: 576\n",
      "_________________________________________________________________\n"
     ]
    }
   ],
   "source": [
    "model = Sequential()\n",
    "model.add(Conv2D(filters=32, kernel_size=3, input_shape=(240, 240, 3), activation='elu', padding='same'))\n",
    "model.add(Conv2D(filters=32, kernel_size=3, activation='elu', padding='same'))\n",
    "model.add(BatchNormalization())\n",
    "model.add(MaxPooling2D(pool_size=2))\n",
    "\n",
    "model.add(Conv2D(filters=64, kernel_size=3, activation='elu', padding='same'))\n",
    "model.add(Conv2D(filters=64, kernel_size=3, activation='elu', padding='same'))\n",
    "model.add(MaxPooling2D(pool_size=2))\n",
    "\n",
    "model.add(Conv2D(filters=128, kernel_size=3, activation='elu', padding='same'))\n",
    "model.add(Conv2D(filters=128, kernel_size=3, activation='elu', padding='same'))\n",
    "model.add(MaxPooling2D(pool_size=2))\n",
    "\n",
    "model.add(Conv2D(filters=256, kernel_size=3, activation='elu', padding='same'))\n",
    "model.add(Conv2D(filters=256, kernel_size=3, activation='elu', padding='same'))\n",
    "model.add(BatchNormalization())\n",
    "# model.add(Conv2D(filters=128, kernel_size=3, activation='elu', padding='same'))\n",
    "model.add(MaxPooling2D(pool_size=2))\n",
    "\n",
    "model.add(Flatten())\n",
    "model.add(Dense(64, activation='elu'))\n",
    "model.add(Dense(128, activation='elu'))\n",
    "model.add(Dense(64, activation='elu'))\n",
    "model.add(Dropout(rate=0.1))\n",
    "model.add(Dense(3, activation='softmax'))\n",
    "\n",
    "model.summary();"
   ]
  },
  {
   "cell_type": "code",
   "execution_count": 52,
   "id": "3d6bcbe2",
   "metadata": {},
   "outputs": [],
   "source": [
    "precision=tf.keras.metrics.Precision(name='precision')\n",
    "recall=tf.keras.metrics.Recall(name='recall')"
   ]
  },
  {
   "cell_type": "code",
   "execution_count": 53,
   "id": "8db9a710",
   "metadata": {},
   "outputs": [
    {
     "name": "stdout",
     "output_type": "stream",
     "text": [
      "Epoch 1/30\n",
      "6130/6130 [==============================] - 26s 4ms/sample - loss: 1.4769 - precision: 0.4555 - recall: 0.3183 - acc: 0.4338\n",
      "Epoch 2/30\n",
      "6130/6130 [==============================] - 25s 4ms/sample - loss: 1.0624 - precision: 0.4963 - recall: 0.2755 - acc: 0.4426\n",
      "Epoch 3/30\n",
      "6130/6130 [==============================] - 25s 4ms/sample - loss: 1.0065 - precision: 0.5277 - recall: 0.3352 - acc: 0.4824\n",
      "Epoch 4/30\n",
      "6130/6130 [==============================] - 25s 4ms/sample - loss: 0.9282 - precision: 0.5920 - recall: 0.4163 - acc: 0.5395s - loss:\n",
      "Epoch 5/30\n",
      "6130/6130 [==============================] - 25s 4ms/sample - loss: 0.9019 - precision: 0.6088 - recall: 0.4346 - acc: 0.5626\n",
      "Epoch 6/30\n",
      "6130/6130 [==============================] - 25s 4ms/sample - loss: 0.7677 - precision: 0.6824 - recall: 0.5928 - acc: 0.6525\n",
      "Epoch 7/30\n",
      "6130/6130 [==============================] - 25s 4ms/sample - loss: 0.6745 - precision: 0.7217 - recall: 0.6489 - acc: 0.6953\n",
      "Epoch 8/30\n",
      "6130/6130 [==============================] - 25s 4ms/sample - loss: 0.6171 - precision: 0.7474 - recall: 0.6931 - acc: 0.7297\n",
      "Epoch 9/30\n",
      "6130/6130 [==============================] - 25s 4ms/sample - loss: 0.5879 - precision: 0.7591 - recall: 0.7139 - acc: 0.7405\n",
      "Epoch 10/30\n",
      "6130/6130 [==============================] - 25s 4ms/sample - loss: 0.5467 - precision: 0.7761 - recall: 0.7447 - acc: 0.7630\n",
      "Epoch 11/30\n",
      "6130/6130 [==============================] - 25s 4ms/sample - loss: 0.4908 - precision: 0.7931 - recall: 0.7684 - acc: 0.7834\n",
      "Epoch 12/30\n",
      "6130/6130 [==============================] - 26s 4ms/sample - loss: 0.4406 - precision: 0.8164 - recall: 0.8000 - acc: 0.8085\n",
      "Epoch 13/30\n",
      "6130/6130 [==============================] - 25s 4ms/sample - loss: 0.4212 - precision: 0.8285 - recall: 0.8109 - acc: 0.8192\n",
      "Epoch 14/30\n",
      "6130/6130 [==============================] - 25s 4ms/sample - loss: 0.3575 - precision: 0.8521 - recall: 0.8429 - acc: 0.8476\n",
      "Epoch 15/30\n",
      "6130/6130 [==============================] - 25s 4ms/sample - loss: 0.3017 - precision: 0.8816 - recall: 0.8737 - acc: 0.8785\n",
      "Epoch 16/30\n",
      "6130/6130 [==============================] - 25s 4ms/sample - loss: 0.2698 - precision: 0.8969 - recall: 0.8896 - acc: 0.8936\n",
      "Epoch 17/30\n",
      "6130/6130 [==============================] - 25s 4ms/sample - loss: 0.2193 - precision: 0.9143 - recall: 0.9103 - acc: 0.9121\n",
      "Epoch 18/30\n",
      "6130/6130 [==============================] - 25s 4ms/sample - loss: 0.1837 - precision: 0.9294 - recall: 0.9254 - acc: 0.9271\n",
      "Epoch 19/30\n",
      "6130/6130 [==============================] - 25s 4ms/sample - loss: 0.1315 - precision: 0.9521 - recall: 0.9498 - acc: 0.9509\n",
      "Epoch 20/30\n",
      "6130/6130 [==============================] - 25s 4ms/sample - loss: 0.1443 - precision: 0.9511 - recall: 0.9489 - acc: 0.9499\n",
      "Epoch 21/30\n",
      "6130/6130 [==============================] - 25s 4ms/sample - loss: 0.1175 - precision: 0.9580 - recall: 0.9566 - acc: 0.9574\n",
      "Epoch 22/30\n",
      "6130/6130 [==============================] - 25s 4ms/sample - loss: 0.0853 - precision: 0.9711 - recall: 0.9701 - acc: 0.9706\n",
      "Epoch 23/30\n",
      "6130/6130 [==============================] - 25s 4ms/sample - loss: 0.1006 - precision: 0.9670 - recall: 0.9657 - acc: 0.9666\n",
      "Epoch 24/30\n",
      "6130/6130 [==============================] - 25s 4ms/sample - loss: 0.0859 - precision: 0.9706 - recall: 0.9690 - acc: 0.9698\n",
      "Epoch 25/30\n",
      "6130/6130 [==============================] - 25s 4ms/sample - loss: 0.0660 - precision: 0.9802 - recall: 0.9783 - acc: 0.9794\n",
      "Epoch 26/30\n",
      "6130/6130 [==============================] - 25s 4ms/sample - loss: 0.0743 - precision: 0.9771 - recall: 0.9757 - acc: 0.9768\n",
      "Epoch 27/30\n",
      "6130/6130 [==============================] - 26s 4ms/sample - loss: 0.0480 - precision: 0.9851 - recall: 0.9845 - acc: 0.9847\n",
      "Epoch 28/30\n",
      "6130/6130 [==============================] - 25s 4ms/sample - loss: 0.0578 - precision: 0.9820 - recall: 0.9814 - acc: 0.9819\n",
      "Epoch 29/30\n",
      "6130/6130 [==============================] - 25s 4ms/sample - loss: 0.0751 - precision: 0.9780 - recall: 0.9772 - acc: 0.9777\n",
      "Epoch 30/30\n",
      "6130/6130 [==============================] - 25s 4ms/sample - loss: 0.0599 - precision: 0.9819 - recall: 0.9814 - acc: 0.9814\n"
     ]
    }
   ],
   "source": [
    "model.compile(loss='categorical_crossentropy', optimizer='adam', metrics=[precision,recall,'accuracy'])\n",
    "history = model.fit(train_X, train_Y, epochs=30, batch_size=16, verbose=1)"
   ]
  },
  {
   "cell_type": "code",
   "execution_count": 54,
   "id": "e88e1557",
   "metadata": {},
   "outputs": [
    {
     "data": {
      "image/png": "[encoded data removed]",
      "text/plain": [
       "<Figure size 432x288 with 1 Axes>"
      ]
     },
     "metadata": {
      "needs_background": "light"
     },
     "output_type": "display_data"
    }
   ],
   "source": [
    "plt.plot(history.history['precision'])\n",
    "plt.plot(history.history['recall'])\n",
    "plt.plot(history.history['acc'])\n",
    "plt.title('model accuracy')\n",
    "plt.ylabel('%')\n",
    "plt.xlabel('epoch')\n",
    "plt.legend(['precision', 'recall'], loc='upper left')\n",
    "plt.show()"
   ]
  },
  {
   "cell_type": "code",
   "execution_count": 55,
   "id": "a3121acc",
   "metadata": {},
   "outputs": [
    {
     "name": "stdout",
     "output_type": "stream",
     "text": [
      "250/250 [==============================] - 1s 3ms/sample - loss: 1.4356 - precision: 0.7309 - recall: 0.7280 - acc: 0.7320\n",
      "Precision 0.7309237\n",
      "Recall 0.728\n",
      "F1 0.7294589568077825\n"
     ]
    }
   ],
   "source": [
    "preds = model.evaluate(x = test_X, y = test_Y)\n",
    "\n",
    "F1 = 2 * (preds[1] * preds[2]) / (preds[1] + preds[2])\n",
    "print('Precision', preds[1])\n",
    "print('Recall', preds[2])\n",
    "print('F1',F1)"
   ]
  },
  {
   "cell_type": "code",
   "execution_count": null,
   "id": "0af0a091",
   "metadata": {},
   "outputs": [],
   "source": []
  },
  {
   "cell_type": "code",
   "execution_count": null,
   "id": "b8226880",
   "metadata": {},
   "outputs": [],
   "source": []
  },
  {
   "cell_type": "code",
   "execution_count": null,
   "id": "597d1db0",
   "metadata": {},
   "outputs": [],
   "source": []
  }
 ],
 "metadata": {
  "kernelspec": {
   "display_name": "Python 3",
   "language": "python",
   "name": "python3"
  },
  "language_info": {
   "codemirror_mode": {
    "name": "ipython",
    "version": 3
   },
   "file_extension": ".py",
   "mimetype": "text/x-python",
   "name": "python",
   "nbconvert_exporter": "python",
   "pygments_lexer": "ipython3",
   "version": "3.7.10"
  }
 },
 "nbformat": 4,
 "nbformat_minor": 5
}
